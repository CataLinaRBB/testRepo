{
 "cells": [
  {
   "cell_type": "markdown",
   "id": "d6b43323-b7b2-4f2d-a2a3-57ebf00de963",
   "metadata": {},
   "source": [
    "# Data science Tools and Ecosystem\n"
   ]
  },
  {
   "cell_type": "markdown",
   "id": "3a2c0560-8c8c-4c64-83f0-1fd46d8a380e",
   "metadata": {},
   "source": [
    "In this notebook, Data Science Tools and Ecosystems are summarized"
   ]
  },
  {
   "cell_type": "markdown",
   "id": "723ca2dd-4b1a-4f6f-892d-2c62553913b3",
   "metadata": {},
   "source": [
    "**Objectives:**\n",
    "- List popular languages for Data Science.\n",
    "- Identify commonly used Data Science libraries.\n",
    "- Demonstrate basic arithmetic operations in Python.\n",
    "- Explore tools used in Data Science.\n",
    "- Convert time units in Python.\n"
   ]
  },
  {
   "cell_type": "markdown",
   "id": "1d6fcf46-8f1b-44e9-974e-78c666590754",
   "metadata": {},
   "source": [
    "Some of the popular languages that Data Scientists use are:\n",
    "1. Python\n",
    "2. R\n",
    "3. SQL\n",
    "4. Julia\n",
    "5. Scala\n"
   ]
  },
  {
   "cell_type": "markdown",
   "id": "84922f8a-6c67-48bb-952c-53b229d27033",
   "metadata": {},
   "source": [
    "Some of the commonly used libraries used by Data Scientists include:\n",
    "1. Pandas\n",
    "2. NumPy\n",
    "3. Scikit-learn\n",
    "4. TensorFlow\n",
    "5. Matplotlib"
   ]
  },
  {
   "cell_type": "code",
   "execution_count": null,
   "id": "49dea586-0c1f-42f6-bf3e-ec0b7c5845c4",
   "metadata": {},
   "outputs": [],
   "source": []
  },
  {
   "cell_type": "markdown",
   "id": "4d94c189-f95a-4c34-8ee9-f79e0c060ab5",
   "metadata": {},
   "source": [
    "| Data Science Tools       |\n",
    "|---------------------------|\n",
    "| Jupyter Notebook          |\n",
    "| RStudio                   |\n",
    "| Apache Zeppelin           |\n"
   ]
  },
  {
   "cell_type": "markdown",
   "id": "a5fdf9b4-cc1d-4d3b-8dbe-ea05ff825297",
   "metadata": {},
   "source": [
    "### Below are a few examples of evaluating arithmetic expressions in Python.\n"
   ]
  },
  {
   "cell_type": "code",
   "execution_count": 5,
   "id": "be999896-599c-45a8-b54e-97b0cb523881",
   "metadata": {},
   "outputs": [
    {
     "data": {
      "text/plain": [
       "17"
      ]
     },
     "execution_count": 5,
     "metadata": {},
     "output_type": "execute_result"
    }
   ],
   "source": [
    "# This a simple arithmetic expression to multiply then add integers\n",
    "(3 * 4) + 5\n"
   ]
  },
  {
   "cell_type": "code",
   "execution_count": 2,
   "id": "1e4574bf-0d6f-4e21-b298-2763ddbebde6",
   "metadata": {},
   "outputs": [
    {
     "data": {
      "text/plain": [
       "3.3333333333333335"
      ]
     },
     "execution_count": 2,
     "metadata": {},
     "output_type": "execute_result"
    }
   ],
   "source": [
    "# This will convert 200 minutes to hours by dividing by 60\n",
    "200 / 60\n"
   ]
  },
  {
   "cell_type": "markdown",
   "id": "c2d53112-0ad7-43e6-bd81-baa75eb14036",
   "metadata": {},
   "source": [
    "## Author:"
   ]
  },
  {
   "cell_type": "markdown",
   "id": "aad558cd-a574-4fab-ba8d-56a5956de58b",
   "metadata": {},
   "source": [
    "Catalina Bravo Briones"
   ]
  },
  {
   "cell_type": "code",
   "execution_count": null,
   "id": "5c27447f-307b-4090-838b-421470509b0a",
   "metadata": {},
   "outputs": [],
   "source": []
  }
 ],
 "metadata": {
  "kernelspec": {
   "display_name": "Python 3 (ipykernel)",
   "language": "python",
   "name": "python3"
  },
  "language_info": {
   "codemirror_mode": {
    "name": "ipython",
    "version": 3
   },
   "file_extension": ".py",
   "mimetype": "text/x-python",
   "name": "python",
   "nbconvert_exporter": "python",
   "pygments_lexer": "ipython3",
   "version": "3.11.9"
  }
 },
 "nbformat": 4,
 "nbformat_minor": 5
}
